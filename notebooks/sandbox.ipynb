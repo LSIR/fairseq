{
 "cells": [
  {
   "cell_type": "code",
   "execution_count": 1,
   "metadata": {},
   "outputs": [],
   "source": [
    "import torch\n",
    "from glob import glob\n",
    "import pickle"
   ]
  },
  {
   "cell_type": "code",
   "execution_count": 2,
   "metadata": {},
   "outputs": [],
   "source": [
    "from fairseq.models.roberta import RobertaModel\n",
    "roberta = RobertaModel.from_pretrained('../checkpoints_16enclayers_agg/', 'checkpoint_best.pt', '/home/beckmann/kf_bin')\n",
    "roberta.cuda()\n",
    "assert isinstance(roberta.model, torch.nn.Module)"
   ]
  },
  {
   "cell_type": "code",
   "execution_count": 3,
   "metadata": {},
   "outputs": [],
   "source": [
    "def path_to_indseq(table, path):\n",
    "    indseqs = []\n",
    "    videos = sorted(glob('{}/*'.format(path)))\n",
    "    for video in videos:\n",
    "        frames = sorted(glob(video + '/*'))\n",
    "        ind_seq = [table[frame.split('/')[-1]] for frame in frames]\n",
    "        indseqs.append(ind_seq)\n",
    "    return indseqs"
   ]
  },
  {
   "cell_type": "code",
   "execution_count": 4,
   "metadata": {},
   "outputs": [],
   "source": [
    "def load_bpe(path, splits=['train','test','valid']):\n",
    "    all_content=[]\n",
    "    for split in splits:\n",
    "        with open(path + split + '.bpe') as f:\n",
    "            content = f.readlines()\n",
    "        # you may also want to remove whitespace characters like `\\n` at the end of each line\n",
    "        content = [x.strip() for x in content]\n",
    "        print(len(content))\n",
    "        all_content.extend(content)\n",
    "    return all_content"
   ]
  },
  {
   "cell_type": "code",
   "execution_count": 5,
   "metadata": {},
   "outputs": [],
   "source": [
    "with open('/home/beckmann/kf_bpe/imnet_table.pkl', 'rb') as f:\n",
    "    rawdata = f.read()\n",
    "imnet_table = pickle.loads(rawdata)\n",
    "\n",
    "path = '/mnt/storage02/tamedia/keyframes/nn_keyframes/'\n",
    "videos = sorted(glob('{}/*'.format(path)))\n",
    "\n",
    "bpe_data = path_to_indseq(imnet_table, path)"
   ]
  },
  {
   "cell_type": "code",
   "execution_count": null,
   "metadata": {},
   "outputs": [],
   "source": [
    "roberta_features = []\n",
    "for bpe_d in bpe_data:\n",
    "    data_string = ' '.join(str(ind) for ind in bpe_d)\n",
    "    tokens = roberta.encode(data_string)\n",
    "    roberta_features.append(roberta.extract_features(tokens)[0][0].cpu().data.numpy())"
   ]
  },
  {
   "cell_type": "code",
   "execution_count": 83,
   "metadata": {},
   "outputs": [
    {
     "data": {
      "text/plain": [
       "512"
      ]
     },
     "execution_count": 83,
     "metadata": {},
     "output_type": "execute_result"
    }
   ],
   "source": []
  },
  {
   "cell_type": "code",
   "execution_count": null,
   "metadata": {},
   "outputs": [],
   "source": []
  }
 ],
 "metadata": {
  "kernelspec": {
   "display_name": "Python 3",
   "language": "python",
   "name": "python3"
  },
  "language_info": {
   "codemirror_mode": {
    "name": "ipython",
    "version": 3
   },
   "file_extension": ".py",
   "mimetype": "text/x-python",
   "name": "python",
   "nbconvert_exporter": "python",
   "pygments_lexer": "ipython3",
   "version": "3.6.10"
  }
 },
 "nbformat": 4,
 "nbformat_minor": 4
}
